{
 "cells": [
  {
   "cell_type": "markdown",
   "id": "6e9ba507",
   "metadata": {},
   "source": [
    "# HuggingFace Diffusers - Tutorial "
   ]
  },
  {
   "cell_type": "markdown",
   "id": "8c937723",
   "metadata": {},
   "source": [
    "## 1. what is Diffusers "
   ]
  },
  {
   "cell_type": "markdown",
   "id": "1ecf59c6",
   "metadata": {},
   "source": [
    "- Library to use pretrained diffusion models for generating images, audio and videos \n",
    "- Can do **inference** and **fine tuning**\n"
   ]
  },
  {
   "cell_type": "markdown",
   "id": "7a6c9805",
   "metadata": {},
   "source": [
    "## 2. Installation \n",
    "\n",
    "\n",
    "**tested on Python 3.8+, PyTorch 1.4+, and Flax 0.4.1+.**\n",
    "\n",
    "\n",
    "Two options \n",
    "\n",
    "\n",
    "### (a) google colab \n",
    "\n",
    "```\n",
    "# from source \n",
    "pip install accelerate\n",
    "pip install git+https://github.com/huggingface/diffusers\n",
    "```\n",
    "\n",
    "### (b) local install (in virtual env) \n",
    "\n",
    "```\n",
    "### Remove old env if it exists\n",
    "conda remove --name xDiffusers --all\n",
    "\n",
    "###Create new environment with Python 3.11\n",
    "conda create --name xDiffusers python=3.11\n",
    "\n",
    "### Activate it\n",
    "conda activate xDiffusers\n",
    "\n",
    "\n",
    "### PyTorch with CUDA (if you have an NVIDIA GPU)\n",
    "pip install torch torchvision torchaudio --index-url https://download.pytorch.org/whl/cu121\n",
    "\n",
    "### Core Hugging Face + diffusers stack\n",
    "pip install diffusers transformers accelerate safetensors\n",
    "\n",
    "### IMPORTANT INSTALL DIFFUSERS > 0.35 \n",
    "pip uninstall -y diffusers\n",
    "pip install -U \"diffusers>=0.35.0\" \n",
    "\n",
    "\n",
    "### Flux .1\n",
    "pip install --upgrade diffusers\n",
    "\n",
    "### DeepFloyd IF\n",
    "pip install sentencepiece protobuf\n",
    "pip install git+https://github.com/huggingface/transformers\n",
    "\n",
    "### ControlNet (optional but very useful)\n",
    "pip install opencv-python\n",
    "\n",
    "#utils \n",
    "pip install pillow matplotlib\n",
    "pip install jupyter notebook tqdm\n",
    "### jupyter \n",
    "conda install jupyter\n",
    "conda install ipykernel\n",
    "python -m ipykernel install --user --name xDiffusers --display-name \"Python (xDiffusers)\"\n",
    "\n",
    "```"
   ]
  },
  {
   "cell_type": "markdown",
   "id": "f67da02a",
   "metadata": {},
   "source": [
    "## 3. Basic Usage : pipelines \n"
   ]
  },
  {
   "cell_type": "markdown",
   "id": "9ce0025e",
   "metadata": {},
   "source": [
    "A **diffusion model** has several parts that work together to turn text or images into new outputs:\n",
    "\n",
    "**Text Encoder** → converts your prompt into numbers (embeddings).\n",
    "\n",
    "**Scheduler** → decides how random noise is cleaned step by step.\n",
    "\n",
    "**UNet / DiT** → the workhorse that removes noise and shapes the image.\n",
    "\n",
    "**VAE** → compresses images into a smaller “latent” space and decodes them back to pixels.\n",
    "\n",
    "👉 The **pipeline** packages all these into one class so you don’t have to call each part yourself.\n",
    "\n",
    "**A pipeline is the “all-in-one tool” that chains text encoder, scheduler, UNet, and VAE so you can generate images with a single call.**"
   ]
  },
  {
   "cell_type": "code",
   "execution_count": null,
   "id": "1e7c95bb",
   "metadata": {},
   "outputs": [],
   "source": []
  },
  {
   "cell_type": "code",
   "execution_count": 1,
   "id": "8d648060",
   "metadata": {},
   "outputs": [
    {
     "data": {
      "application/vnd.jupyter.widget-view+json": {
       "model_id": "bed246d1a1a340e1985a10f15827e38c",
       "version_major": 2,
       "version_minor": 0
      },
      "text/plain": [
       "Loading pipeline components...:   0%|          | 0/7 [00:00<?, ?it/s]"
      ]
     },
     "metadata": {},
     "output_type": "display_data"
    },
    {
     "data": {
      "application/vnd.jupyter.widget-view+json": {
       "model_id": "f4abd700781848ef85126d529f97bf5a",
       "version_major": 2,
       "version_minor": 0
      },
      "text/plain": [
       "  0%|          | 0/30 [00:00<?, ?it/s]"
      ]
     },
     "metadata": {},
     "output_type": "display_data"
    },
    {
     "name": "stdout",
     "output_type": "stream",
     "text": [
      "done\n"
     ]
    }
   ],
   "source": [
    "from diffusers import StableDiffusionXLPipeline\n",
    "import torch\n",
    "\n",
    "model_id = \"stabilityai/stable-diffusion-xl-base-1.0\"\n",
    "device = \"cuda\" if torch.cuda.is_available() else \"cpu\"\n",
    "dtype = torch.float16 if device == \"cuda\" else torch.float32  # SDXL benefits from fp16 on GPU\n",
    "\n",
    "pipe = StableDiffusionXLPipeline.from_pretrained(\n",
    "    model_id,\n",
    "    torch_dtype=dtype,\n",
    "    add_watermarker=False,   # optional: disable invisible watermark\n",
    ")\n",
    "pipe = pipe.to(device)\n",
    "\n",
    "# (Optional) memory helpers on GPU\n",
    "#if device == \"cuda\":\n",
    "#    pipe.enable_attention_slicing()\n",
    "#    pipe.enable_vae_slicing()\n",
    "\n",
    "    \n",
    "prompt = \"black and white drawing of a Rwandan female fruitseller with a basket on her head on a street in Rwanda, with some fruits visible, clean lines, minimal shading\"    \n",
    "  \n",
    "\n",
    "negative = \"blurry, low quality, text, watermark, extra fingers, extra limbs\"\n",
    "\n",
    "image = pipe(\n",
    "    prompt=prompt,\n",
    "    negative_prompt=negative,\n",
    "    num_inference_steps=30,\n",
    "    guidance_scale=7.0,\n",
    ").images[0]\n",
    "\n",
    "image.save(\"sdxl_fruitseller_rw_01.png\")\n",
    "print('done')"
   ]
  },
  {
   "cell_type": "code",
   "execution_count": null,
   "id": "21387fd9",
   "metadata": {},
   "outputs": [],
   "source": []
  }
 ],
 "metadata": {
  "kernelspec": {
   "display_name": "Python (xDiffusers)",
   "language": "python",
   "name": "xdiffusers"
  },
  "language_info": {
   "codemirror_mode": {
    "name": "ipython",
    "version": 3
   },
   "file_extension": ".py",
   "mimetype": "text/x-python",
   "name": "python",
   "nbconvert_exporter": "python",
   "pygments_lexer": "ipython3",
   "version": "3.11.13"
  }
 },
 "nbformat": 4,
 "nbformat_minor": 5
}

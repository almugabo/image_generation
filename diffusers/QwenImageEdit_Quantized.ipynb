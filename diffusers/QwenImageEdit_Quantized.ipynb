{
 "cells": [
  {
   "cell_type": "code",
   "execution_count": null,
   "id": "5e2fc8fe",
   "metadata": {},
   "outputs": [],
   "source": []
  },
  {
   "cell_type": "code",
   "execution_count": null,
   "id": "5a827238",
   "metadata": {},
   "outputs": [],
   "source": []
  },
  {
   "cell_type": "code",
   "execution_count": null,
   "id": "884bc24f",
   "metadata": {},
   "outputs": [],
   "source": [
    "import os\n",
    "from PIL import Image\n",
    "import torch\n",
    "\n",
    "from diffusers import QwenImageEditPipeline\n",
    "\n",
    "model_path = \"ovedrive/qwen-image-edit-4bit\"\n",
    "pipeline = QwenImageEditPipeline.from_pretrained(model_path, torch_dtype=torch.bfloat16)\n",
    "#print(\"pipeline loaded\") # not true but whatever. do not move to cuda\n",
    "\n",
    "pipeline.set_progress_bar_config(disable=None)\n",
    "#pipeline.enable_model_cpu_offload() #if you have enough VRAM replace this line with `pipeline.to(\"cuda\")` which is 20GB VRAM\n",
    "pipeline.to(\"cuda\")\n",
    "\n",
    "print(\"pipeline loaded\") # not true but whatever. do not move to cuda\n"
   ]
  },
  {
   "cell_type": "code",
   "execution_count": null,
   "id": "c6921d8f",
   "metadata": {},
   "outputs": [],
   "source": [
    "prompts = [\n",
    "    \"Add a colorful art board and paintbrush in the bear’s hands. Position the bear standing in front of the art board as if painting.\",\n",
    "    \"Add a silver spatula in the bear’s right hand, place a few vegetables (carrot, onion, green pepper) and spice bottles near the bear’s left side, keep the white background unchanged.\",\n",
    "    \"Add a brown acoustic guitar in the bear’s arms, positioned horizontally across its lap, with fingers gently plucking the strings; keep the bear’s posture seated on the ground, facing forward, wearing the same white T-shirt with Qwen logo.\",\n",
    "    \"This bear is wearing a tuxedo, a magician’s hat, and holding a magic wand, performing a magic trick gesture.\",\n",
    "    \"This bear is wearing sportswear, holding a basketball, and bending one leg.\",\n",
    "    \"Add a straw hat on the bear’s head, hold a watering can in its right hand and a small shovel in its left hand, standing in front of a small plant being watered or planted.\",\n",
    "    \"This bear is wearing a spacesuit and pointing towards the distance.\",\n",
    "    \"This bear is wearing an elaborate dance dress, with arms spread open, performing an elegant dancing pose.\"\n",
    "]\n",
    "\n",
    "image = Image.open('qwenEdit_bear_input_1.png').convert(\"RGB\")\n",
    "\n",
    "\n",
    "for xnr, xprompt in enumerate(prompts):\n",
    "    xfile_name = 'test_qwenbear_0' + str(xnr+1) + '.png'\n",
    "    \n",
    "    \n",
    "    inputs = {\n",
    "        \"image\": image,\n",
    "        \"prompt\": xprompt,\n",
    "        \"generator\": torch.manual_seed(0),\n",
    "        \"true_cfg_scale\": 4.0,\n",
    "        \"negative_prompt\": \" \",\n",
    "        \"num_inference_steps\": 20, # even 10 steps should be enough in many cases\n",
    "    }\n",
    "\n",
    "    with torch.inference_mode():\n",
    "      output = pipeline(**inputs)\n",
    "\n",
    "    output_image = output.images[0]\n",
    "    output_image.save(xfile_name)\n",
    "    print(\"image saved :\", xfile_name)    \n",
    "    \n",
    "print('all done')      \n"
   ]
  },
  {
   "cell_type": "code",
   "execution_count": null,
   "id": "c351011f",
   "metadata": {},
   "outputs": [],
   "source": []
  },
  {
   "cell_type": "code",
   "execution_count": null,
   "id": "de656124",
   "metadata": {},
   "outputs": [],
   "source": []
  },
  {
   "cell_type": "code",
   "execution_count": null,
   "id": "b183a037",
   "metadata": {},
   "outputs": [],
   "source": []
  }
 ],
 "metadata": {
  "kernelspec": {
   "display_name": "Python (xDiffusers)",
   "language": "python",
   "name": "xdiffusers"
  },
  "language_info": {
   "codemirror_mode": {
    "name": "ipython",
    "version": 3
   },
   "file_extension": ".py",
   "mimetype": "text/x-python",
   "name": "python",
   "nbconvert_exporter": "python",
   "pygments_lexer": "ipython3",
   "version": "3.11.13"
  }
 },
 "nbformat": 4,
 "nbformat_minor": 5
}

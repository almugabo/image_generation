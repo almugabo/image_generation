{
 "cells": [
  {
   "cell_type": "code",
   "execution_count": null,
   "id": "e7a934db",
   "metadata": {},
   "outputs": [],
   "source": []
  },
  {
   "cell_type": "code",
   "execution_count": null,
   "id": "c2b608ec",
   "metadata": {},
   "outputs": [],
   "source": []
  },
  {
   "cell_type": "code",
   "execution_count": null,
   "id": "09d59455",
   "metadata": {
    "scrolled": false
   },
   "outputs": [],
   "source": [
    "import torch\n",
    "from diffusers import FluxKontextPipeline\n",
    "from diffusers.utils import load_image\n",
    "\n",
    "pipe = FluxKontextPipeline.from_pretrained(\"HighCWu/FLUX.1-Kontext-dev-bnb-hqq-4bit\", torch_dtype=torch.bfloat16)\n",
    "pipe.to(\"cuda\")\n",
    "\n",
    "#input_image = load_image(\"https://huggingface.co/datasets/huggingface/documentation-images/resolve/main/diffusers/cat.png\")\n",
    "\n",
    "input_image = '/home/mike/___mySoftInstallation/Invoke/outputs/images/be066bc9-26eb-4ad0-9b34-e99512a8eb93.png'\n",
    "xref = load_image(input_image )\n",
    "\n",
    "xprompt = \"A Rwandan shopkeeper standing behind a counter with neatly arranged goods on simple shelves, some Rwandan clients visible, clean line-art style\"\n",
    "\n",
    "\n",
    "image = pipe(\n",
    "  image=xref,\n",
    "  prompt=xprompt ,\n",
    "  guidance_scale=3.0,\n",
    "  num_inference_steps=28,\n",
    "  generator=torch.Generator(\"cuda\").manual_seed(10),\n",
    ").images[0]\n",
    "\n",
    "\n",
    "image.show()\n",
    "image.save('shopkeeper_test_02.png')\n"
   ]
  },
  {
   "cell_type": "code",
   "execution_count": null,
   "id": "7fb2516e",
   "metadata": {},
   "outputs": [],
   "source": []
  },
  {
   "cell_type": "code",
   "execution_count": null,
   "id": "c36d15f7",
   "metadata": {},
   "outputs": [],
   "source": [
    "xprompt = \"A Rwandan shopkeeper standing behind a counter with neatly arranged goods on simple shelves, clean line-art style\"\n",
    "\n",
    "\n",
    "image = pipe(\n",
    "  image=xref,\n",
    "  prompt=xprompt ,\n",
    "  guidance_scale=4.0,\n",
    "  num_inference_steps=28,\n",
    "  generator=torch.Generator(\"cuda\").manual_seed(100),\n",
    ").images[0]\n",
    "\n",
    "\n",
    "image.show()\n",
    "image.save('shopkeeper_test_02.png')\n"
   ]
  },
  {
   "cell_type": "code",
   "execution_count": null,
   "id": "c5b2294f",
   "metadata": {},
   "outputs": [],
   "source": []
  },
  {
   "cell_type": "markdown",
   "id": "7cb024c4",
   "metadata": {},
   "source": [
    "## Test the example from QwenEdit "
   ]
  },
  {
   "cell_type": "code",
   "execution_count": null,
   "id": "1bd4e40e",
   "metadata": {},
   "outputs": [],
   "source": [
    "import random "
   ]
  },
  {
   "cell_type": "code",
   "execution_count": null,
   "id": "6065e408",
   "metadata": {},
   "outputs": [],
   "source": []
  },
  {
   "cell_type": "code",
   "execution_count": null,
   "id": "1ce8594f",
   "metadata": {},
   "outputs": [],
   "source": [
    "xref_image = 'qwenEdit_bear_input.png'\n",
    "xref = load_image(xref_image )\n",
    "\n"
   ]
  },
  {
   "cell_type": "code",
   "execution_count": null,
   "id": "2cd4928e",
   "metadata": {},
   "outputs": [],
   "source": [
    "prompts = [\n",
    "    \"Add a colorful art board and paintbrush in the bear’s hands. Position the bear standing in front of the art board as if painting.\",\n",
    "    \"Add a silver spatula in the bear’s right hand, place a few vegetables (carrot, onion, green pepper) and spice bottles near the bear’s left side, keep the white background unchanged.\",\n",
    "    \"Add a brown acoustic guitar in the bear’s arms, positioned horizontally across its lap, with fingers gently plucking the strings; keep the bear’s posture seated on the ground, facing forward, wearing the same white T-shirt with Qwen logo.\",\n",
    "    \"This bear is wearing a tuxedo, a magician’s hat, and holding a magic wand, performing a magic trick gesture.\",\n",
    "    \"This bear is wearing sportswear, holding a basketball, and bending one leg.\",\n",
    "    \"Add a straw hat on the bear’s head, hold a watering can in its right hand and a small shovel in its left hand, standing in front of a small plant being watered or planted.\",\n",
    "    \"This bear is wearing a spacesuit and pointing towards the distance.\",\n",
    "    \"This bear is wearing an elaborate dance dress, with arms spread open, performing an elegant dancing pose.\"\n",
    "]\n",
    "\n",
    "\n",
    "\n",
    "for xnr, xprompt in enumerate(prompts):\n",
    "    xfile_name = 'test_qwenbear_0' + str(xnr+1) + '.png'\n",
    "    \n",
    "    xseed = random.choice(range(0,1000))\n",
    "    \n",
    "    image = pipe(\n",
    "      image=xref,\n",
    "      prompt=xprompt ,\n",
    "      guidance_scale=4.0,\n",
    "      num_inference_steps=35,\n",
    "      generator=torch.Generator(\"cuda\").manual_seed(xseed),\n",
    "    ).images[0]\n",
    "\n",
    "\n",
    "    #image.show()\n",
    "\n",
    "    image.save(xfile_name)\n",
    "    \n",
    "print('all done')    "
   ]
  },
  {
   "cell_type": "code",
   "execution_count": null,
   "id": "27d04526",
   "metadata": {},
   "outputs": [],
   "source": [
    "image.show()"
   ]
  },
  {
   "cell_type": "code",
   "execution_count": null,
   "id": "e7fb4c7e",
   "metadata": {},
   "outputs": [],
   "source": []
  }
 ],
 "metadata": {
  "kernelspec": {
   "display_name": "Python (xDiffusers)",
   "language": "python",
   "name": "xdiffusers"
  },
  "language_info": {
   "codemirror_mode": {
    "name": "ipython",
    "version": 3
   },
   "file_extension": ".py",
   "mimetype": "text/x-python",
   "name": "python",
   "nbconvert_exporter": "python",
   "pygments_lexer": "ipython3",
   "version": "3.11.13"
  }
 },
 "nbformat": 4,
 "nbformat_minor": 5
}
